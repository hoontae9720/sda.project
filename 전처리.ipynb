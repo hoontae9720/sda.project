{
 "cells": [
  {
   "cell_type": "code",
   "execution_count": 16,
   "metadata": {},
   "outputs": [],
   "source": [
    "import pandas as pd\n",
    "\n",
    "# CSV 파일 경로\n",
    "file_path_revenue = 'C:/Users/dlwlg/Desktop/최종프로젝트/서울시 상권데이터/서울시 상권데이터/서울시_상권분석_서비스(추정매출-상권).csv'\n",
    "file_path_population = 'C:/Users/dlwlg/Desktop/최종프로젝트/서울시 상권데이터/서울시 상권데이터/서울시_상권분석_서비스(길단위인구-상권).csv'\n",
    "file_path_facility = 'C:/Users/dlwlg/Desktop/최종프로젝트/서울시 상권데이터/서울시 상권데이터/서울시_상권분석_서비스(집객시설-상권).csv'\n",
    "file_path_store = 'C:/Users/dlwlg/Desktop/최종프로젝트/서울시 상권데이터/서울시 상권데이터/서울시_상권분석_서비스(점포-상권).csv'\n",
    "\n",
    "# CSV 파일 읽기\n",
    "revenue = pd.read_csv(file_path_revenue)\n",
    "population = pd.read_csv(file_path_population)\n",
    "facility = pd.read_csv(file_path_facility)\n",
    "store = pd.read_csv(file_path_store)"
   ]
  },
  {
   "cell_type": "code",
   "execution_count": 19,
   "metadata": {},
   "outputs": [
    {
     "name": "stdout",
     "output_type": "stream",
     "text": [
      "Index(['기준_년분기_코드', '상권_구분_코드', '상권_구분_코드_명', '상권_코드', '상권_코드_명', '서비스_업종_코드',\n",
      "       '서비스_업종_코드_명', '점포_수', '유사_업종_점포_수', '개업_율', '개업_점포_수', '폐업_률',\n",
      "       '폐업_점포_수', '프랜차이즈_점포_수'],\n",
      "      dtype='object')\n"
     ]
    }
   ],
   "source": [
    "# store 데이터프레임의 컬럼명 변경\n",
    "store.rename(columns={\n",
    "    'STDR_YYQU_CD': '기준_년분기_코드',\n",
    "    'TRDAR_SE_CD': '상권_구분_코드',\n",
    "    'TRDAR_SE_CD_NM': '상권_구분_코드_명',\n",
    "    'TRDAR_CD': '상권_코드',\n",
    "    'TRDAR_CD_NM': '상권_코드_명',\n",
    "    'SVC_INDUTY_CD': '서비스_업종_코드',\n",
    "    'SVC_INDUTY_CD_NM': '서비스_업종_코드_명',\n",
    "    'STOR_CO': '점포_수',\n",
    "    'SIMILR_INDUTY_STOR_CO': '유사_업종_점포_수',\n",
    "    'OPBIZ_RT': '개업_율',\n",
    "    'OPBIZ_STOR_CO': '개업_점포_수',\n",
    "    'CLSBIZ_RT': '폐업_률',\n",
    "    'CLSBIZ_STOR_CO': '폐업_점포_수',\n",
    "    'FRC_STOR_CO': '프랜차이즈_점포_수'\n",
    "}, inplace=True)\n",
    "\n",
    "# 변경된 컬럼명 확인\n",
    "print(store.columns)\n",
    "\n",
    "store.to_csv('C:/Users/dlwlg/Desktop/최종프로젝트/서울시 상권데이터/서울시 상권데이터/서울시_상권분석_서비스(점포-상권).csv', index=False, encoding='utf-8-sig')"
   ]
  },
  {
   "cell_type": "code",
   "execution_count": 20,
   "metadata": {},
   "outputs": [
    {
     "name": "stdout",
     "output_type": "stream",
     "text": [
      "(449094, 55)\n",
      "(36292, 27)\n",
      "(23670, 25)\n",
      "(1664565, 14)\n"
     ]
    }
   ],
   "source": [
    "print(revenue.shape)\n",
    "print(population.shape)\n",
    "print(facility.shape)\n",
    "print(store.shape)"
   ]
  },
  {
   "cell_type": "code",
   "execution_count": 22,
   "metadata": {},
   "outputs": [
    {
     "name": "stdout",
     "output_type": "stream",
     "text": [
      "        기준_년분기_코드 상권_구분_코드 상권_구분_코드_명    상권_코드    상권_코드_명 서비스_업종_코드  \\\n",
      "178313      20222        R       전통시장  3130240    영등포유통상가  CS300026   \n",
      "178375      20222        A       골목상권  3110437    당고개역 2번  CS300033   \n",
      "178418      20222        A       골목상권  3110803  신길2동우편취급국  CS300019   \n",
      "178988      20222        A       골목상권  3110376     수송초등학교  CS300031   \n",
      "179170      20222        R       전통시장  3130149     창동신창시장  CS300019   \n",
      "\n",
      "       서비스_업종_코드_명      당월_매출_금액  당월_매출_건수      주중_매출_금액  ...  \\\n",
      "178313          완구  2.669903e+07       243  0.000000e+00  ...   \n",
      "178375         철물점  2.739245e+06        46  2.739245e+06  ...   \n",
      "178418        의료기기  2.192000e+09       284  2.192000e+09  ...   \n",
      "178988          가구  4.087973e+07        21  4.087973e+07  ...   \n",
      "179170        의료기기  4.893243e+07        98  0.000000e+00  ...   \n",
      "\n",
      "        시간대_건수~21_매출_건수  시간대_건수~24_매출_건수  남성_매출_건수  여성_매출_건수  연령대_10_매출_건수  \\\n",
      "178313                0                0       243         0             0   \n",
      "178375                0                0        46         0             0   \n",
      "178418                0                0       284         0             0   \n",
      "178988                0                0        21         0             0   \n",
      "179170                0                0         0        98             0   \n",
      "\n",
      "        연령대_20_매출_건수  연령대_30_매출_건수  연령대_40_매출_건수  연령대_50_매출_건수  \\\n",
      "178313           243             0             0             0   \n",
      "178375             0             0             0             0   \n",
      "178418             0           284             0             0   \n",
      "178988             0             0             0            21   \n",
      "179170             0             0             0             0   \n",
      "\n",
      "        연령대_60_이상_매출_건수  \n",
      "178313                0  \n",
      "178375               46  \n",
      "178418                0  \n",
      "178988                0  \n",
      "179170               98  \n",
      "\n",
      "[5 rows x 55 columns]\n"
     ]
    }
   ],
   "source": [
    "# 추정매출 데이터 분기 제거(2022)\n",
    "\n",
    "# 기준_년분기_코드가 20221 이상인 데이터만 필터링\n",
    "revenue = revenue[revenue['기준_년분기_코드'] >= 20221]\n",
    "\n",
    "# 결과 확인\n",
    "print(revenue.head())\n",
    "\n",
    "\n",
    "# 데이터프레임을 CSV로 저장\n",
    "revenue.to_csv('C:/Users/dlwlg/Desktop/최종프로젝트/서울시 상권데이터/서울시 상권데이터/서울시_상권분석_서비스(추정매출-상권)_20221분기이후.csv', index=False, encoding='utf-8-sig')\n"
   ]
  },
  {
   "cell_type": "code",
   "execution_count": 23,
   "metadata": {},
   "outputs": [
    {
     "data": {
      "text/plain": [
       "(208875, 55)"
      ]
     },
     "execution_count": 23,
     "metadata": {},
     "output_type": "execute_result"
    }
   ],
   "source": [
    "revenue.shape"
   ]
  },
  {
   "cell_type": "code",
   "execution_count": null,
   "metadata": {},
   "outputs": [],
   "source": [
    "#추정매출+점포 데이터 합치기"
   ]
  },
  {
   "cell_type": "code",
   "execution_count": 30,
   "metadata": {},
   "outputs": [
    {
     "name": "stdout",
     "output_type": "stream",
     "text": [
      "revenue columns: Index(['기준_년분기_코드', '상권_구분_코드', '상권_구분_코드_명', '상권_코드', '상권_코드_명', '서비스_업종_코드',\n",
      "       '서비스_업종_코드_명', '당월_매출_금액', '당월_매출_건수', '주중_매출_금액', '주말_매출_금액',\n",
      "       '월요일_매출_금액', '화요일_매출_금액', '수요일_매출_금액', '목요일_매출_금액', '금요일_매출_금액',\n",
      "       '토요일_매출_금액', '일요일_매출_금액', '시간대_00~06_매출_금액', '시간대_06~11_매출_금액',\n",
      "       '시간대_11~14_매출_금액', '시간대_14~17_매출_금액', '시간대_17~21_매출_금액',\n",
      "       '시간대_21~24_매출_금액', '남성_매출_금액', '여성_매출_금액', '연령대_10_매출_금액',\n",
      "       '연령대_20_매출_금액', '연령대_30_매출_금액', '연령대_40_매출_금액', '연령대_50_매출_금액',\n",
      "       '연령대_60_이상_매출_금액', '주중_매출_건수', '주말_매출_건수', '월요일_매출_건수', '화요일_매출_건수',\n",
      "       '수요일_매출_건수', '목요일_매출_건수', '금요일_매출_건수', '토요일_매출_건수', '일요일_매출_건수',\n",
      "       '시간대_건수~06_매출_건수', '시간대_건수~11_매출_건수', '시간대_건수~14_매출_건수',\n",
      "       '시간대_건수~17_매출_건수', '시간대_건수~21_매출_건수', '시간대_건수~24_매출_건수', '남성_매출_건수',\n",
      "       '여성_매출_건수', '연령대_10_매출_건수', '연령대_20_매출_건수', '연령대_30_매출_건수',\n",
      "       '연령대_40_매출_건수', '연령대_50_매출_건수', '연령대_60_이상_매출_건수'],\n",
      "      dtype='object')\n",
      "store columns: Index(['기준_년분기_코드', '상권_구분_코드', '상권_구분_코드_명', '상권_코드', '상권_코드_명', '서비스_업종_코드',\n",
      "       '서비스_업종_코드_명', '점포_수', '유사_업종_점포_수', '개업_율', '개업_점포_수', '폐업_률',\n",
      "       '폐업_점포_수', '프랜차이즈_점포_수'],\n",
      "      dtype='object')\n",
      "   기준_년분기_코드 상권_구분_코드 상권_구분_코드_명    상권_코드    상권_코드_명 서비스_업종_코드 서비스_업종_코드_명  \\\n",
      "0      20222        R       전통시장  3130240    영등포유통상가  CS300026          완구   \n",
      "1      20222        A       골목상권  3110437    당고개역 2번  CS300033         철물점   \n",
      "2      20222        A       골목상권  3110803  신길2동우편취급국  CS300019        의료기기   \n",
      "3      20222        A       골목상권  3110376     수송초등학교  CS300031          가구   \n",
      "4      20222        R       전통시장  3130149     창동신창시장  CS300019        의료기기   \n",
      "\n",
      "       당월_매출_금액  당월_매출_건수      주중_매출_금액  ...  시간대_건수~24_매출_건수  남성_매출_건수  \\\n",
      "0  2.669903e+07       243  0.000000e+00  ...                0       243   \n",
      "1  2.739245e+06        46  2.739245e+06  ...                0        46   \n",
      "2  2.192000e+09       284  2.192000e+09  ...                0       284   \n",
      "3  4.087973e+07        21  4.087973e+07  ...                0        21   \n",
      "4  4.893243e+07        98  0.000000e+00  ...                0         0   \n",
      "\n",
      "   여성_매출_건수  연령대_10_매출_건수  연령대_20_매출_건수  연령대_30_매출_건수  연령대_40_매출_건수  \\\n",
      "0         0             0           243             0             0   \n",
      "1         0             0             0             0             0   \n",
      "2         0             0             0           284             0   \n",
      "3         0             0             0             0             0   \n",
      "4        98             0             0             0             0   \n",
      "\n",
      "   연령대_50_매출_건수  연령대_60_이상_매출_건수  유사_업종_점포_수  \n",
      "0             0                0          14  \n",
      "1             0               46           3  \n",
      "2             0                0           8  \n",
      "3            21                0           3  \n",
      "4             0               98           3  \n",
      "\n",
      "[5 rows x 56 columns]\n",
      "<class 'pandas.core.frame.DataFrame'>\n",
      "RangeIndex: 208875 entries, 0 to 208874\n",
      "Data columns (total 56 columns):\n",
      " #   Column           Non-Null Count   Dtype  \n",
      "---  ------           --------------   -----  \n",
      " 0   기준_년분기_코드        208875 non-null  int64  \n",
      " 1   상권_구분_코드         208875 non-null  object \n",
      " 2   상권_구분_코드_명       208875 non-null  object \n",
      " 3   상권_코드            208875 non-null  int64  \n",
      " 4   상권_코드_명          208875 non-null  object \n",
      " 5   서비스_업종_코드        208875 non-null  object \n",
      " 6   서비스_업종_코드_명      208875 non-null  object \n",
      " 7   당월_매출_금액         208875 non-null  float64\n",
      " 8   당월_매출_건수         208875 non-null  int64  \n",
      " 9   주중_매출_금액         208875 non-null  float64\n",
      " 10  주말_매출_금액         208875 non-null  float64\n",
      " 11  월요일_매출_금액        208875 non-null  float64\n",
      " 12  화요일_매출_금액        208875 non-null  float64\n",
      " 13  수요일_매출_금액        208875 non-null  float64\n",
      " 14  목요일_매출_금액        208875 non-null  float64\n",
      " 15  금요일_매출_금액        208875 non-null  float64\n",
      " 16  토요일_매출_금액        208875 non-null  float64\n",
      " 17  일요일_매출_금액        208875 non-null  float64\n",
      " 18  시간대_00~06_매출_금액  208875 non-null  float64\n",
      " 19  시간대_06~11_매출_금액  208875 non-null  float64\n",
      " 20  시간대_11~14_매출_금액  208875 non-null  float64\n",
      " 21  시간대_14~17_매출_금액  208875 non-null  float64\n",
      " 22  시간대_17~21_매출_금액  208875 non-null  float64\n",
      " 23  시간대_21~24_매출_금액  208875 non-null  int64  \n",
      " 24  남성_매출_금액         208875 non-null  float64\n",
      " 25  여성_매출_금액         208875 non-null  float64\n",
      " 26  연령대_10_매출_금액     208875 non-null  int64  \n",
      " 27  연령대_20_매출_금액     208875 non-null  float64\n",
      " 28  연령대_30_매출_금액     208875 non-null  float64\n",
      " 29  연령대_40_매출_금액     208875 non-null  float64\n",
      " 30  연령대_50_매출_금액     208875 non-null  float64\n",
      " 31  연령대_60_이상_매출_금액  208875 non-null  float64\n",
      " 32  주중_매출_건수         208875 non-null  int64  \n",
      " 33  주말_매출_건수         208875 non-null  int64  \n",
      " 34  월요일_매출_건수        208875 non-null  int64  \n",
      " 35  화요일_매출_건수        208875 non-null  int64  \n",
      " 36  수요일_매출_건수        208875 non-null  int64  \n",
      " 37  목요일_매출_건수        208875 non-null  int64  \n",
      " 38  금요일_매출_건수        208875 non-null  int64  \n",
      " 39  토요일_매출_건수        208875 non-null  int64  \n",
      " 40  일요일_매출_건수        208875 non-null  int64  \n",
      " 41  시간대_건수~06_매출_건수  208875 non-null  int64  \n",
      " 42  시간대_건수~11_매출_건수  208875 non-null  int64  \n",
      " 43  시간대_건수~14_매출_건수  208875 non-null  int64  \n",
      " 44  시간대_건수~17_매출_건수  208875 non-null  int64  \n",
      " 45  시간대_건수~21_매출_건수  208875 non-null  int64  \n",
      " 46  시간대_건수~24_매출_건수  208875 non-null  int64  \n",
      " 47  남성_매출_건수         208875 non-null  int64  \n",
      " 48  여성_매출_건수         208875 non-null  int64  \n",
      " 49  연령대_10_매출_건수     208875 non-null  int64  \n",
      " 50  연령대_20_매출_건수     208875 non-null  int64  \n",
      " 51  연령대_30_매출_건수     208875 non-null  int64  \n",
      " 52  연령대_40_매출_건수     208875 non-null  int64  \n",
      " 53  연령대_50_매출_건수     208875 non-null  int64  \n",
      " 54  연령대_60_이상_매출_건수  208875 non-null  int64  \n",
      " 55  유사_업종_점포_수       208875 non-null  int64  \n",
      "dtypes: float64(22), int64(29), object(5)\n",
      "memory usage: 89.2+ MB\n",
      "None\n"
     ]
    }
   ],
   "source": [
    "\n",
    "# 병합 기준 확인\n",
    "print(\"revenue columns:\", revenue.columns)\n",
    "print(\"store columns:\", store.columns)\n",
    "\n",
    "# 필요한 컬럼만 선택\n",
    "store_subset = store[['기준_년분기_코드', '상권_구분_코드', '상권_코드', '서비스_업종_코드', '유사_업종_점포_수']]\n",
    "\n",
    "# 데이터 병합 (기준 컬럼: 기준_년분기_코드, 상권_구분_코드, 상권_코드, 서비스_업종_코드)\n",
    "average_revenue = revenue.merge(\n",
    "    store_subset,\n",
    "    on=['기준_년분기_코드', '상권_구분_코드', '상권_코드', '서비스_업종_코드'],\n",
    "    how='left'\n",
    ")\n",
    "\n",
    "# 병합 결과 확인\n",
    "print(average_revenue.head())\n",
    "print(average_revenue.info())\n",
    "\n",
    "# 병합된 데이터 저장 (선택사항)\n",
    "output_file = 'C:/Users/dlwlg/Desktop/최종프로젝트/서울시 상권데이터/서울시 상권데이터/서울시_상권분석_서비스(추정평균매출).csv'\n",
    "average_revenue.to_csv(output_file, index=False, encoding='utf-8-sig')\n"
   ]
  },
  {
   "cell_type": "code",
   "execution_count": null,
   "metadata": {},
   "outputs": [],
   "source": [
    "# 결측치 처리\n",
    "# 조건별 계산"
   ]
  },
  {
   "cell_type": "code",
   "execution_count": null,
   "metadata": {},
   "outputs": [],
   "source": [
    "# 피쳐 엔지니어링\n",
    "# 금액&건수 데이터/점포 수 > 평균_금액&평균_건수 데이터"
   ]
  },
  {
   "cell_type": "code",
   "execution_count": 33,
   "metadata": {},
   "outputs": [
    {
     "name": "stdout",
     "output_type": "stream",
     "text": [
      "   기준_년분기_코드 상권_구분_코드 상권_구분_코드_명    상권_코드    상권_코드_명 서비스_업종_코드 서비스_업종_코드_명  \\\n",
      "0      20222        R       전통시장  3130240    영등포유통상가  CS300026          완구   \n",
      "1      20222        A       골목상권  3110437    당고개역 2번  CS300033         철물점   \n",
      "2      20222        A       골목상권  3110803  신길2동우편취급국  CS300019        의료기기   \n",
      "3      20222        A       골목상권  3110376     수송초등학교  CS300031          가구   \n",
      "4      20222        R       전통시장  3130149     창동신창시장  CS300019        의료기기   \n",
      "\n",
      "   유사_업종_점포_수   평균_당월_매출_금액  평균_당월_매출_건수  ...  평균_시간대_건수~21_매출_건수  \\\n",
      "0          14  1.907074e+06    17.357143  ...                 0.0   \n",
      "1           3  9.130817e+05    15.333333  ...                 0.0   \n",
      "2           8  2.740000e+08    35.500000  ...                 0.0   \n",
      "3           3  1.362658e+07     7.000000  ...                 0.0   \n",
      "4           3  1.631081e+07    32.666667  ...                 0.0   \n",
      "\n",
      "   평균_시간대_건수~24_매출_건수  평균_남성_매출_건수  평균_여성_매출_건수  평균_연령대_10_매출_건수  \\\n",
      "0                 0.0    17.357143     0.000000              0.0   \n",
      "1                 0.0    15.333333     0.000000              0.0   \n",
      "2                 0.0    35.500000     0.000000              0.0   \n",
      "3                 0.0     7.000000     0.000000              0.0   \n",
      "4                 0.0     0.000000    32.666667              0.0   \n",
      "\n",
      "   평균_연령대_20_매출_건수  평균_연령대_30_매출_건수  평균_연령대_40_매출_건수  평균_연령대_50_매출_건수  \\\n",
      "0        17.357143              0.0              0.0              0.0   \n",
      "1         0.000000              0.0              0.0              0.0   \n",
      "2         0.000000             35.5              0.0              0.0   \n",
      "3         0.000000              0.0              0.0              7.0   \n",
      "4         0.000000              0.0              0.0              0.0   \n",
      "\n",
      "   평균_연령대_60_이상_매출_건수  \n",
      "0            0.000000  \n",
      "1           15.333333  \n",
      "2            0.000000  \n",
      "3            0.000000  \n",
      "4           32.666667  \n",
      "\n",
      "[5 rows x 56 columns]\n"
     ]
    }
   ],
   "source": [
    "# 매출 및 건수 컬럼 리스트\n",
    "columns_to_modify = [\n",
    "    '당월_매출_금액', '당월_매출_건수', '주중_매출_금액', '주말_매출_금액',\n",
    "    '월요일_매출_금액', '화요일_매출_금액', '수요일_매출_금액', '목요일_매출_금액', '금요일_매출_금액',\n",
    "    '토요일_매출_금액', '일요일_매출_금액', '시간대_00~06_매출_금액', '시간대_06~11_매출_금액',\n",
    "    '시간대_11~14_매출_금액', '시간대_14~17_매출_금액', '시간대_17~21_매출_금액',\n",
    "    '시간대_21~24_매출_금액', '남성_매출_금액', '여성_매출_금액', '연령대_10_매출_금액',\n",
    "    '연령대_20_매출_금액', '연령대_30_매출_금액', '연령대_40_매출_금액', '연령대_50_매출_금액',\n",
    "    '연령대_60_이상_매출_금액', '주중_매출_건수', '주말_매출_건수', '월요일_매출_건수', '화요일_매출_건수',\n",
    "    '수요일_매출_건수', '목요일_매출_건수', '금요일_매출_건수', '토요일_매출_건수', '일요일_매출_건수',\n",
    "    '시간대_건수~06_매출_건수', '시간대_건수~11_매출_건수', '시간대_건수~14_매출_건수',\n",
    "    '시간대_건수~17_매출_건수', '시간대_건수~21_매출_건수', '시간대_건수~24_매출_건수', '남성_매출_건수',\n",
    "    '여성_매출_건수', '연령대_10_매출_건수', '연령대_20_매출_건수', '연령대_30_매출_건수',\n",
    "    '연령대_40_매출_건수', '연령대_50_매출_건수', '연령대_60_이상_매출_건수'\n",
    "]\n",
    "\n",
    "# 새로운 평균 컬럼 생성\n",
    "for col in columns_to_modify:\n",
    "    if col in average_revenue.columns:  # 컬럼이 존재할 경우만 수행\n",
    "        average_revenue[f'평균_{col}'] = average_revenue[col] / average_revenue['유사_업종_점포_수']\n",
    "\n",
    "# 기존 컬럼 제거 (선택 사항)\n",
    "average_revenue = average_revenue.drop(columns=columns_to_modify)\n",
    "\n",
    "# 결과 확인\n",
    "print(average_revenue.head())\n",
    "\n",
    "# 새로운 데이터 저장\n",
    "output_file = 'C:/Users/dlwlg/Desktop/최종프로젝트/서울시 상권데이터/서울시 상권데이터/서울시_상권분석_서비스(추정평균매출).csv'\n",
    "average_revenue.to_csv(output_file, index=False, encoding='utf-8-sig')"
   ]
  },
  {
   "cell_type": "code",
   "execution_count": 34,
   "metadata": {},
   "outputs": [
    {
     "name": "stdout",
     "output_type": "stream",
     "text": [
      "Index(['기준_년분기_코드', '상권_구분_코드', '상권_구분_코드_명', '상권_코드', '상권_코드_명', '서비스_업종_코드',\n",
      "       '서비스_업종_코드_명', '유사_업종_점포_수', '평균_당월_매출_금액', '평균_당월_매출_건수',\n",
      "       '평균_주중_매출_금액', '평균_주말_매출_금액', '평균_월요일_매출_금액', '평균_화요일_매출_금액',\n",
      "       '평균_수요일_매출_금액', '평균_목요일_매출_금액', '평균_금요일_매출_금액', '평균_토요일_매출_금액',\n",
      "       '평균_일요일_매출_금액', '평균_시간대_00~06_매출_금액', '평균_시간대_06~11_매출_금액',\n",
      "       '평균_시간대_11~14_매출_금액', '평균_시간대_14~17_매출_금액', '평균_시간대_17~21_매출_금액',\n",
      "       '평균_시간대_21~24_매출_금액', '평균_남성_매출_금액', '평균_여성_매출_금액', '평균_연령대_10_매출_금액',\n",
      "       '평균_연령대_20_매출_금액', '평균_연령대_30_매출_금액', '평균_연령대_40_매출_금액',\n",
      "       '평균_연령대_50_매출_금액', '평균_연령대_60_이상_매출_금액', '평균_주중_매출_건수', '평균_주말_매출_건수',\n",
      "       '평균_월요일_매출_건수', '평균_화요일_매출_건수', '평균_수요일_매출_건수', '평균_목요일_매출_건수',\n",
      "       '평균_금요일_매출_건수', '평균_토요일_매출_건수', '평균_일요일_매출_건수', '평균_시간대_건수~06_매출_건수',\n",
      "       '평균_시간대_건수~11_매출_건수', '평균_시간대_건수~14_매출_건수', '평균_시간대_건수~17_매출_건수',\n",
      "       '평균_시간대_건수~21_매출_건수', '평균_시간대_건수~24_매출_건수', '평균_남성_매출_건수',\n",
      "       '평균_여성_매출_건수', '평균_연령대_10_매출_건수', '평균_연령대_20_매출_건수', '평균_연령대_30_매출_건수',\n",
      "       '평균_연령대_40_매출_건수', '평균_연령대_50_매출_건수', '평균_연령대_60_이상_매출_건수'],\n",
      "      dtype='object')\n"
     ]
    }
   ],
   "source": [
    "print(average_revenue.columns)"
   ]
  },
  {
   "cell_type": "code",
   "execution_count": 35,
   "metadata": {},
   "outputs": [
    {
     "data": {
      "text/plain": [
       "(208875, 56)"
      ]
     },
     "execution_count": 35,
     "metadata": {},
     "output_type": "execute_result"
    }
   ],
   "source": [
    "average_revenue.shape"
   ]
  },
  {
   "cell_type": "code",
   "execution_count": null,
   "metadata": {},
   "outputs": [],
   "source": [
    "# 이상치 처리\n",
    "# 당월_매출_평균_금액/점포 수 < 1 추출"
   ]
  },
  {
   "cell_type": "code",
   "execution_count": 37,
   "metadata": {},
   "outputs": [
    {
     "name": "stdout",
     "output_type": "stream",
     "text": [
      "   기준_년분기_코드 상권_구분_코드 상권_구분_코드_명    상권_코드    상권_코드_명 서비스_업종_코드 서비스_업종_코드_명  \\\n",
      "2      20222        A       골목상권  3110803  신길2동우편취급국  CS300019        의료기기   \n",
      "3      20222        A       골목상권  3110376     수송초등학교  CS300031          가구   \n",
      "4      20222        R       전통시장  3130149     창동신창시장  CS300019        의료기기   \n",
      "7      20222        R       전통시장  3130056     용산용문시장  CS300031          가구   \n",
      "9      20222        D       발달상권  3120122       강서구청  CS300036        조명용품   \n",
      "\n",
      "   유사_업종_점포_수   평균_당월_매출_금액  평균_당월_매출_건수  ...  평균_시간대_건수~21_매출_건수  \\\n",
      "2           8  2.740000e+08    35.500000  ...            0.000000   \n",
      "3           3  1.362658e+07     7.000000  ...            0.000000   \n",
      "4           3  1.631081e+07    32.666667  ...            0.000000   \n",
      "7           3  2.233333e+07     4.000000  ...            0.000000   \n",
      "9           6  1.032426e+07    87.166667  ...           58.166667   \n",
      "\n",
      "   평균_시간대_건수~24_매출_건수  평균_남성_매출_건수  평균_여성_매출_건수  평균_연령대_10_매출_건수  \\\n",
      "2                 0.0         35.5     0.000000              0.0   \n",
      "3                 0.0          7.0     0.000000              0.0   \n",
      "4                 0.0          0.0    32.666667              0.0   \n",
      "7                 4.0          4.0     0.000000              0.0   \n",
      "9                 0.0         29.0    58.166667              0.0   \n",
      "\n",
      "   평균_연령대_20_매출_건수  평균_연령대_30_매출_건수  평균_연령대_40_매출_건수  평균_연령대_50_매출_건수  \\\n",
      "2              0.0             35.5              0.0         0.000000   \n",
      "3              0.0              0.0              0.0         7.000000   \n",
      "4              0.0              0.0              0.0         0.000000   \n",
      "7              0.0              4.0              0.0         0.000000   \n",
      "9              0.0              0.0              0.0        87.166667   \n",
      "\n",
      "   평균_연령대_60_이상_매출_건수  \n",
      "2            0.000000  \n",
      "3            0.000000  \n",
      "4           32.666667  \n",
      "7            0.000000  \n",
      "9            0.000000  \n",
      "\n",
      "[5 rows x 56 columns]\n",
      "남은 행의 수: 176169\n"
     ]
    }
   ],
   "source": [
    "# 평균_당월_매출_금액이 4,170,000 이하인 행 제거\n",
    "average_revenue = average_revenue[average_revenue['평균_당월_매출_금액'] > 4170000]\n",
    "\n",
    "# 결과 확인\n",
    "print(average_revenue.head())\n",
    "print(f\"남은 행의 수: {len(average_revenue)}\")\n",
    "\n",
    "# 수정된 데이터 저장\n",
    "output_file = 'C:/Users/dlwlg/Desktop/최종프로젝트/서울시 상권데이터/서울시 상권데이터/서울시_상권분석_서비스(추정평균매출).csv'\n",
    "average_revenue.to_csv(output_file, index=False, encoding='utf-8-sig')\n"
   ]
  },
  {
   "cell_type": "code",
   "execution_count": 38,
   "metadata": {},
   "outputs": [
    {
     "data": {
      "text/plain": [
       "(176169, 56)"
      ]
     },
     "execution_count": 38,
     "metadata": {},
     "output_type": "execute_result"
    }
   ],
   "source": [
    "average_revenue.shape"
   ]
  },
  {
   "cell_type": "code",
   "execution_count": null,
   "metadata": {},
   "outputs": [],
   "source": [
    "# 해당 분기 행 제거거"
   ]
  },
  {
   "cell_type": "code",
   "execution_count": 39,
   "metadata": {},
   "outputs": [
    {
     "name": "stdout",
     "output_type": "stream",
     "text": [
      "   기준_년분기_코드 상권_구분_코드 상권_구분_코드_명    상권_코드  상권_코드_명 서비스_업종_코드 서비스_업종_코드_명  \\\n",
      "0      20222        A       골목상권  3110565      홍익대  CS100004       양식음식점   \n",
      "1      20222        D       발달상권  3120186     가로수길  CS100004       양식음식점   \n",
      "2      20222        D       발달상권  3120239      오금역  CS100004       양식음식점   \n",
      "3      20222        D       발달상권  3120171  서초3동사거리  CS100004       양식음식점   \n",
      "4      20222        D       발달상권  3120021   시청역_8번  CS100005         제과점   \n",
      "\n",
      "   유사_업종_점포_수   평균_당월_매출_금액  평균_당월_매출_건수  ...  평균_시간대_건수~21_매출_건수  \\\n",
      "0           3  1.675162e+07   813.333333  ...            0.000000   \n",
      "1          92  8.998292e+07  2117.804348  ...          738.336957   \n",
      "2          11  3.218669e+07  1110.636364  ...          396.818182   \n",
      "3          16  7.993042e+07  1733.125000  ...          595.187500   \n",
      "4           4  2.574322e+07  2763.750000  ...           54.500000   \n",
      "\n",
      "   평균_시간대_건수~24_매출_건수  평균_남성_매출_건수  평균_여성_매출_건수  평균_연령대_10_매출_건수  \\\n",
      "0            0.000000   179.333333   634.000000        25.666667   \n",
      "1          257.836957   684.869565  1187.108696        56.413043   \n",
      "2           56.454545   545.909091   470.727273        17.363636   \n",
      "3           55.125000   685.125000   866.062500        27.750000   \n",
      "4            0.000000  1316.750000  1094.250000         5.000000   \n",
      "\n",
      "   평균_연령대_20_매출_건수  평균_연령대_30_매출_건수  평균_연령대_40_매출_건수  평균_연령대_50_매출_건수  \\\n",
      "0       506.666667       144.000000        55.000000        72.333333   \n",
      "1       795.728261       536.826087       235.228261       189.032609   \n",
      "2       182.727273       295.181818       258.545455       165.636364   \n",
      "3       333.625000       444.437500       353.375000       244.062500   \n",
      "4       370.250000       903.750000       733.750000       364.250000   \n",
      "\n",
      "   평균_연령대_60_이상_매출_건수  \n",
      "0            9.666667  \n",
      "1           58.760870  \n",
      "2           97.545455  \n",
      "3          147.750000  \n",
      "4           34.000000  \n",
      "\n",
      "[5 rows x 56 columns]\n",
      "필터링 후 데이터 개수: 140770\n"
     ]
    }
   ],
   "source": [
    "# 상권_코드_명과 서비스_업종_코드_명으로 그룹화 후 데이터 개수 계산\n",
    "group_counts = average_revenue.groupby(['상권_코드_명', '서비스_업종_코드_명']).size().reset_index(name='데이터_개수')\n",
    "\n",
    "# 데이터 개수가 10개 이상인 그룹 필터링\n",
    "valid_groups = group_counts[group_counts['데이터_개수'] >= 10]\n",
    "\n",
    "# 유효한 그룹으로 데이터 필터링\n",
    "filtered_average_revenue = average_revenue.merge(\n",
    "    valid_groups[['상권_코드_명', '서비스_업종_코드_명']],\n",
    "    on=['상권_코드_명', '서비스_업종_코드_명'],\n",
    "    how='inner'\n",
    ")\n",
    "\n",
    "# 결과 확인\n",
    "print(filtered_average_revenue.head())\n",
    "print(f\"필터링 후 데이터 개수: {len(filtered_average_revenue)}\")\n",
    "\n",
    "# 필터링된 데이터 저장 (선택 사항)\n",
    "output_file = 'C:/Users/dlwlg/Desktop/최종프로젝트/서울시 상권데이터/서울시 상권데이터/서울시_상권분석_서비스(추정평균매출).csv'\n",
    "filtered_average_revenue.to_csv(output_file, index=False, encoding='utf-8-sig')"
   ]
  },
  {
   "cell_type": "code",
   "execution_count": 40,
   "metadata": {},
   "outputs": [
    {
     "data": {
      "text/plain": [
       "(140770, 56)"
      ]
     },
     "execution_count": 40,
     "metadata": {},
     "output_type": "execute_result"
    }
   ],
   "source": [
    "filtered_average_revenue.shape"
   ]
  },
  {
   "cell_type": "code",
   "execution_count": null,
   "metadata": {},
   "outputs": [],
   "source": [
    "# 추정매출,길단위인구,집객시설,점포 데이터 필터링\n",
    "# 공통 컬럼 기준"
   ]
  },
  {
   "cell_type": "code",
   "execution_count": 45,
   "metadata": {},
   "outputs": [
    {
     "name": "stdout",
     "output_type": "stream",
     "text": [
      "필터링된 revenue 데이터 크기: (207711, 55)\n",
      "필터링된 population 데이터 크기: (14884, 27)\n",
      "필터링된 facility 데이터 크기: (14410, 25)\n",
      "필터링된 store 데이터 크기: (140770, 14)\n"
     ]
    }
   ],
   "source": [
    "# 공통 컬럼 정의\n",
    "common_columns1 = ['기준_년분기_코드', '상권_구분_코드', '상권_구분_코드_명', '상권_코드', '상권_코드_명']\n",
    "common_columns2 = common_columns1 + ['서비스_업종_코드', '서비스_업종_코드_명']\n",
    "\n",
    "# filtered_average_revenue에서 공통 컬럼 값 추출\n",
    "filter_common1 = filtered_average_revenue[common_columns1].drop_duplicates()\n",
    "filter_common2 = filtered_average_revenue[common_columns2].drop_duplicates()\n",
    "\n",
    "# revenue, population, facility 데이터 필터링 (공통 컬럼 1 기준)\n",
    "filtered_revenue = revenue.merge(filter_common1, on=common_columns1, how='inner')\n",
    "filtered_population = population.merge(filter_common1, on=common_columns1, how='inner')\n",
    "filtered_facility = facility.merge(filter_common1, on=common_columns1, how='inner')\n",
    "\n",
    "# store 데이터 필터링 (공통 컬럼 2 기준)\n",
    "filtered_store = store.merge(filter_common2, on=common_columns2, how='inner')\n",
    "\n",
    "# 필터링된 데이터 확인\n",
    "print(f\"필터링된 revenue 데이터 크기: {filtered_revenue.shape}\")\n",
    "print(f\"필터링된 population 데이터 크기: {filtered_population.shape}\")\n",
    "print(f\"필터링된 facility 데이터 크기: {filtered_facility.shape}\")\n",
    "print(f\"필터링된 store 데이터 크기: {filtered_store.shape}\")\n",
    "\n"
   ]
  },
  {
   "cell_type": "code",
   "execution_count": 46,
   "metadata": {},
   "outputs": [],
   "source": [
    "# filtered_facility의 NaN 값을 0으로 처리\n",
    "filtered_facility = filtered_facility.fillna(0)"
   ]
  },
  {
   "cell_type": "code",
   "execution_count": 48,
   "metadata": {},
   "outputs": [],
   "source": [
    "# # 필터링된 데이터 저장\n",
    "average_revenue.to_csv('평균매출.csv', index=False, encoding='utf-8-sig')\n",
    "filtered_revenue.to_csv('추정매출.csv', index=False, encoding='utf-8-sig')\n",
    "filtered_population.to_csv('유동인구.csv', index=False, encoding='utf-8-sig')\n",
    "filtered_facility.to_csv('집객시설.csv', index=False, encoding='utf-8-sig')\n",
    "filtered_store.to_csv('점포.csv', index=False, encoding='utf-8-sig')"
   ]
  },
  {
   "cell_type": "code",
   "execution_count": 58,
   "metadata": {},
   "outputs": [],
   "source": [
    "import pandas as pd\n",
    "\n",
    "# 금액 데이터와 건수 데이터 분리\n",
    "amount_columns = [col for col in filtered_average_revenue.columns if '금액' in col]  # 금액 관련 컬럼\n",
    "count_columns = [col for col in filtered_average_revenue.columns if '건수' in col]   # 건수 관련 컬럼\n",
    "\n",
    "# 공통 컬럼 (금액/건수 모두 포함된 공통 정보)\n",
    "common_columns = [col for col in filtered_average_revenue.columns if col not in amount_columns + count_columns]\n",
    "\n",
    "# 금액 데이터프레임\n",
    "average_amount = filtered_average_revenue[common_columns + amount_columns]\n",
    "\n",
    "# 건수 데이터프레임\n",
    "average_count = filtered_average_revenue[common_columns + count_columns]\n",
    "\n",
    "# 결과 저장\n",
    "average_amount.to_csv('평균매출금액.csv', index=False, encoding='utf-8-sig')\n",
    "average_count.to_csv('평균매출건수.csv', index=False, encoding='utf-8-sig')"
   ]
  },
  {
   "cell_type": "code",
   "execution_count": 57,
   "metadata": {},
   "outputs": [
    {
     "name": "stdout",
     "output_type": "stream",
     "text": [
      "(140770, 32)\n",
      "(140770, 32)\n"
     ]
    }
   ],
   "source": [
    "print(average_amount.shape)\n",
    "print(average_count.shape)"
   ]
  },
  {
   "cell_type": "code",
   "execution_count": null,
   "metadata": {},
   "outputs": [],
   "source": [
    "# 조인"
   ]
  },
  {
   "cell_type": "code",
   "execution_count": 49,
   "metadata": {},
   "outputs": [
    {
     "name": "stdout",
     "output_type": "stream",
     "text": [
      "   기준_년분기_코드 상권_구분_코드 상권_구분_코드_명    상권_코드  상권_코드_명 서비스_업종_코드 서비스_업종_코드_명  \\\n",
      "0      20222        A       골목상권  3110565      홍익대  CS100004       양식음식점   \n",
      "1      20222        D       발달상권  3120186     가로수길  CS100004       양식음식점   \n",
      "2      20222        D       발달상권  3120239      오금역  CS100004       양식음식점   \n",
      "3      20222        D       발달상권  3120171  서초3동사거리  CS100004       양식음식점   \n",
      "4      20222        D       발달상권  3120021   시청역_8번  CS100005         제과점   \n",
      "\n",
      "       당월_매출_금액  당월_매출_건수      주중_매출_금액  ...  버스_터미널_수  지하철_역_수  버스_정거장_수  \\\n",
      "0  5.025487e+07      2440  2.760332e+07  ...       0.0      0.0       3.0   \n",
      "1  8.278429e+09    194838  5.058864e+09  ...       0.0      0.0       3.0   \n",
      "2  3.540536e+08     12217  2.215342e+08  ...       0.0      2.0       5.0   \n",
      "3  1.278887e+09     27730  8.294037e+08  ...       0.0      0.0      12.0   \n",
      "4  1.029729e+08     11055  1.029729e+08  ...       0.0      0.0       6.0   \n",
      "\n",
      "   점포_수  유사_업종_점포_수  개업_율  개업_점포_수  폐업_률  폐업_점포_수  프랜차이즈_점포_수  \n",
      "0     3           3     0        0     0        0           0  \n",
      "1    88          92     4        4     2        2           4  \n",
      "2    10          11     0        0     0        0           1  \n",
      "3    14          16     6        1     0        0           2  \n",
      "4     4           4     0        0     0        0           0  \n",
      "\n",
      "[5 rows x 104 columns]\n",
      "최종 병합된 데이터 크기: (139640, 104)\n"
     ]
    }
   ],
   "source": [
    "# 공통 컬럼 정의\n",
    "common_columns1 = ['기준_년분기_코드', '상권_구분_코드', '상권_구분_코드_명', '상권_코드', '상권_코드_명']\n",
    "common_columns2 = common_columns1 + ['서비스_업종_코드', '서비스_업종_코드_명']\n",
    "\n",
    "# 공통 컬럼 1 기준으로 데이터 병합\n",
    "merged_data = filtered_revenue.merge(filtered_population, on=common_columns1, how='inner')\n",
    "merged_data = merged_data.merge(filtered_facility, on=common_columns1, how='inner')\n",
    "\n",
    "# 공통 컬럼 2 기준으로 store 데이터 병합\n",
    "merged_data = merged_data.merge(filtered_store, on=common_columns2, how='inner')\n",
    "\n",
    "# 결과 확인\n",
    "print(merged_data.head())\n",
    "print(f\"최종 병합된 데이터 크기: {merged_data.shape}\")\n",
    "\n",
    "# # 최종 병합 데이터 저장\n",
    "# output_file = '최종_병합_데이터.csv'\n",
    "# merged_data.to_csv(output_file, index=False, encoding='utf-8-sig')\n",
    "# print(f\"최종 병합 데이터가 저장되었습니다: {output_file}\")\n"
   ]
  }
 ],
 "metadata": {
  "kernelspec": {
   "display_name": "base",
   "language": "python",
   "name": "python3"
  },
  "language_info": {
   "codemirror_mode": {
    "name": "ipython",
    "version": 3
   },
   "file_extension": ".py",
   "mimetype": "text/x-python",
   "name": "python",
   "nbconvert_exporter": "python",
   "pygments_lexer": "ipython3",
   "version": "3.12.7"
  }
 },
 "nbformat": 4,
 "nbformat_minor": 2
}
